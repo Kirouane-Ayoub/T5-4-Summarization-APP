{
  "nbformat": 4,
  "nbformat_minor": 0,
  "metadata": {
    "colab": {
      "provenance": []
    },
    "kernelspec": {
      "name": "python3",
      "display_name": "Python 3"
    },
    "language_info": {
      "name": "python"
    }
  },
  "cells": [
    {
      "cell_type": "code",
      "execution_count": null,
      "metadata": {
        "id": "Lbg69ehiLaMp"
      },
      "outputs": [],
      "source": [
        "! pip install transformers sentencepiece gradio"
      ]
    },
    {
      "cell_type": "code",
      "source": [
        "from transformers import pipeline\n",
        "import gradio as gr"
      ],
      "metadata": {
        "id": "7plTdunwON44"
      },
      "execution_count": 9,
      "outputs": []
    },
    {
      "cell_type": "code",
      "source": [
        "pipe = pipeline(\"summarization\", model=\"ayoubkirouane/T5-4-Summarization\")\n",
        "def summarization(text) :\n",
        "  return pipe(text)[0][\"summary_text\"]"
      ],
      "metadata": {
        "id": "tFo0JigRQzhD"
      },
      "execution_count": null,
      "outputs": []
    },
    {
      "cell_type": "code",
      "source": [
        "# Create a Gradio interface\n",
        "iface = gr.Interface(\n",
        "    fn=summarization,\n",
        "    inputs=gr.Textbox(prompt=\"Input Text\"),\n",
        "    outputs=gr.Textbox(prompt=\"Generated Summary\") ,\n",
        "    allow_flagging=False\n",
        ")\n",
        "\n",
        "# Launch the Gradio app\n",
        "iface.launch(debug=True , share=True)"
      ],
      "metadata": {
        "id": "3h0454mDOMol"
      },
      "execution_count": null,
      "outputs": []
    }
  ]
}